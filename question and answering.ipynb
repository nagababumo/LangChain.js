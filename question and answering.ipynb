{
  "cells": [
    {
      "cell_type": "markdown",
      "metadata": {
        "id": "view-in-github",
        "colab_type": "text"
      },
      "source": [
        "<a href=\"https://colab.research.google.com/github/nagababumo/LangChain.js/blob/main/question%20and%20answering.ipynb\" target=\"_parent\"><img src=\"https://colab.research.google.com/assets/colab-badge.svg\" alt=\"Open In Colab\"/></a>"
      ]
    },
    {
      "cell_type": "markdown",
      "id": "048876d8-c05f-45fd-883c-f756aee5cfc4",
      "metadata": {
        "id": "048876d8-c05f-45fd-883c-f756aee5cfc4"
      },
      "source": [
        "# Lesson 4: Question answering"
      ]
    },
    {
      "cell_type": "markdown",
      "id": "ad214456-a809-4f50-8d4a-7a418c8e47f1",
      "metadata": {
        "id": "ad214456-a809-4f50-8d4a-7a418c8e47f1"
      },
      "source": [
        "![](./images/rag_diagram.png)"
      ]
    },
    {
      "cell_type": "code",
      "execution_count": null,
      "id": "b666824e-a940-484f-b3f0-6b7682ef4677",
      "metadata": {
        "height": 30,
        "id": "b666824e-a940-484f-b3f0-6b7682ef4677",
        "outputId": "cfa21a63-95cc-4a76-d1f6-9bb105269aad"
      },
      "outputs": [
        {
          "data": {
            "text/plain": [
              "[Module: null prototype] { default: {} }"
            ]
          },
          "execution_count": 15,
          "metadata": {},
          "output_type": "execute_result"
        }
      ],
      "source": [
        "import \"dotenv/config\";"
      ]
    },
    {
      "cell_type": "code",
      "execution_count": null,
      "id": "4bee5413-fcde-4dd9-b5fb-89023203cfb2",
      "metadata": {
        "height": 115,
        "id": "4bee5413-fcde-4dd9-b5fb-89023203cfb2"
      },
      "outputs": [],
      "source": [
        "import { loadAndSplitChunks } from \"./lib/helpers.ts\";\n",
        "\n",
        "const splitDocs = await loadAndSplitChunks({\n",
        "    chunkSize: 1536,\n",
        "    chunkOverlap: 128\n",
        "});"
      ]
    },
    {
      "cell_type": "code",
      "execution_count": null,
      "id": "b3e86ff7-6368-4442-8ee6-0a1a3c1b35e0",
      "metadata": {
        "height": 115,
        "id": "b3e86ff7-6368-4442-8ee6-0a1a3c1b35e0"
      },
      "outputs": [],
      "source": [
        "import { initializeVectorstoreWithDocuments } from \"./lib/helpers.ts\";\n",
        "\n",
        "const vectorstore = await initializeVectorstoreWithDocuments({\n",
        "  documents: splitDocs,\n",
        "});"
      ]
    },
    {
      "cell_type": "code",
      "execution_count": null,
      "id": "634988ed-0a57-49bc-9261-dc19fe66529b",
      "metadata": {
        "height": 30,
        "id": "634988ed-0a57-49bc-9261-dc19fe66529b"
      },
      "outputs": [],
      "source": [
        "const retriever = vectorstore.asRetriever();"
      ]
    },
    {
      "cell_type": "markdown",
      "id": "8b484116-7cee-4c7e-a020-183771d26125",
      "metadata": {
        "id": "8b484116-7cee-4c7e-a020-183771d26125"
      },
      "source": [
        "# Document retrieval in a chain"
      ]
    },
    {
      "cell_type": "code",
      "execution_count": null,
      "id": "cd470c94-5bec-4efe-8395-416b0a408f8b",
      "metadata": {
        "height": 370,
        "id": "cd470c94-5bec-4efe-8395-416b0a408f8b"
      },
      "outputs": [],
      "source": [
        "import { RunnableSequence } from \"@langchain/core/runnables\";\n",
        "import { Document } from \"@langchain/core/documents\";\n",
        "\n",
        "const convertDocsToString = (documents: Document[]): string => {\n",
        "  return documents.map((document) => {\n",
        "    return `<doc>\\n${document.pageContent}\\n</doc>`\n",
        "  }).join(\"\\n\");\n",
        "};\n",
        "\n",
        "/*\n",
        "{\n",
        "question: \"What is deep learning?\"\n",
        "}\n",
        "*/\n",
        "\n",
        "const documentRetrievalChain = RunnableSequence.from([\n",
        "    (input) => input.question,\n",
        "    retriever,\n",
        "    convertDocsToString\n",
        "]);"
      ]
    },
    {
      "cell_type": "code",
      "execution_count": null,
      "id": "4476713f-5285-4d2f-9126-d30ee9825090",
      "metadata": {
        "height": 98,
        "id": "4476713f-5285-4d2f-9126-d30ee9825090",
        "outputId": "5af64864-731a-454d-a746-988cfae591ba"
      },
      "outputs": [
        {
          "name": "stdout",
          "output_type": "stream",
          "text": [
            "<doc>\n",
            "course information handout. So let me just say a few words about parts of these. On the \n",
            "third page, there's a section that says Online Resources.  \n",
            "Oh, okay. Louder? Actually, could you turn up the volume? Testing. Is this better? \n",
            "Testing, testing. Okay, cool. Thanks.\n",
            "</doc>\n",
            "<doc>\n",
            "of this class will not be very programming intensive, although we will do some \n",
            "programming, mostly in either MATLAB or Octave. I'll say a bit more about that later.  \n",
            "I also assume familiarity with basic probability and statistics. So most undergraduate \n",
            "statistics class, like Stat 116 taught here at Stanford, will be more than enough. I'm gonna \n",
            "assume all of you know what random variables are, that all of you know what expectation \n",
            "is, what a variance or a random variable is. And in case of some of you, it's been a while \n",
            "since you've seen some of this material. At some of the discussion sections, we'll actually \n",
            "go over some of the prerequisites, sort of as a refresher course under prerequisite class. \n",
            "I'll say a bit more about that later as well.  \n",
            "Lastly, I also assume familiarity with basic linear algebra. And again, most undergraduate \n",
            "linear algebra courses are more than enough. So if you've taken courses like Math 51, \n",
            "103, Math 113 or CS205 at Stanford, that would be more than enough. Basically, I'm \n",
            "gonna assume that all of you know what matrixes and vectors are, that you know how to \n",
            "multiply matrices and vectors and multiply matrix and matrices, that you know what a \n",
            "matrix inverse is. If you know what an eigenvector of a matrix is, that'd be even better. \n",
            "But if you don't quite know or if you're not quite sure, that's fine, too. We'll go over it in \n",
            "the review sections.  \n",
            "So there are a couple more logistical things I should deal with in this class. One is that, as\n",
            "</doc>\n",
            "<doc>\n",
            "material that I'm teaching in the main lectures. So machine learning is a huge field, and \n",
            "there are a few extensions that we really want to teach but didn't have time in the main \n",
            "lectures for.\n",
            "</doc>\n",
            "<doc>\n",
            "same regardless of the group size, so with a larger group, you probably — I recommend \n",
            "trying to form a team, but it's actually totally fine to do it in a smaller group if you want.  \n",
            "Student : [Inaudible] what language [inaudible]?  \n",
            "Instructor (Andrew Ng): So let's see. There is no C programming in this class other \n",
            "than any that you may choose to do yourself in your project. So all the homeworks can be \n",
            "done in MATLAB or Octave, and let's see. And I guess the program prerequisites is more \n",
            "the ability to understand big?O notation and knowledge of what a data structure, like a \n",
            "linked list or a queue or binary treatments, more so than your knowledge of C or Java \n",
            "specifically. Yeah?  \n",
            "Student : Looking at the end semester project, I mean, what exactly will you be testing \n",
            "over there? [Inaudible]?  \n",
            "Instructor (Andrew Ng) : Of the project?  \n",
            "Student : Yeah.  \n",
            "Instructor (Andrew Ng) : Yeah, let me answer that later. In a couple of weeks, I shall \n",
            "give out a handout with guidelines for the project. But for now, we should think of the \n",
            "goal as being to do a cool piece of machine learning work that will let you experience the\n",
            "</doc>\n"
          ]
        }
      ],
      "source": [
        "const results = await documentRetrievalChain.invoke({\n",
        "  question: \"What are the prerequisites for this course?\"\n",
        "});\n",
        "console.log(results);"
      ]
    },
    {
      "cell_type": "markdown",
      "id": "9f213b67-f7d3-4e30-9776-41b0b4ce6a10",
      "metadata": {
        "id": "9f213b67-f7d3-4e30-9776-41b0b4ce6a10"
      },
      "source": [
        "# Synthesizing a response"
      ]
    },
    {
      "cell_type": "code",
      "execution_count": null,
      "id": "4f3366a1-4f80-4d4f-b49b-d7223b143d97",
      "metadata": {
        "height": 387,
        "id": "4f3366a1-4f80-4d4f-b49b-d7223b143d97"
      },
      "outputs": [],
      "source": [
        "import { ChatPromptTemplate } from \"@langchain/core/prompts\";\n",
        "\n",
        "const TEMPLATE_STRING = `You are an experienced researcher,\n",
        "expert at interpreting and answering questions based on provided sources.\n",
        "Using the provided context, answer the user's question\n",
        "to the best of your ability using only the resources provided.\n",
        "Be verbose!\n",
        "\n",
        "<context>\n",
        "\n",
        "{context}\n",
        "\n",
        "</context>\n",
        "\n",
        "Now, answer this question using the above context:\n",
        "\n",
        "{question}`;\n",
        "\n",
        "const answerGenerationPrompt = ChatPromptTemplate.fromTemplate(\n",
        "    TEMPLATE_STRING\n",
        ");"
      ]
    },
    {
      "cell_type": "code",
      "execution_count": null,
      "id": "c2581cfc-aec6-4600-860c-1e100d42a382",
      "metadata": {
        "height": 200,
        "id": "c2581cfc-aec6-4600-860c-1e100d42a382",
        "outputId": "4c211734-257f-4f15-9977-13983b74973c"
      },
      "outputs": [
        {
          "data": {
            "text/plain": [
              "{\n",
              "  question: \u001b[32m\"What are the prerequisites for this course?\"\u001b[39m,\n",
              "  context: \u001b[32m\"<doc>\\n\"\u001b[39m +\n",
              "    \u001b[32m\"course information handout. So let me just say a few words about parts of these. On the \\n\"\u001b[39m +\n",
              "    \u001b[32m\"third\"\u001b[39m... 3063 more characters\n",
              "}"
            ]
          },
          "execution_count": 22,
          "metadata": {},
          "output_type": "execute_result"
        }
      ],
      "source": [
        "import { RunnableMap } from \"@langchain/core/runnables\";\n",
        "\n",
        "const runnableMap = RunnableMap.from({\n",
        "  context: documentRetrievalChain,\n",
        "  question: (input) => input.question,\n",
        "});\n",
        "\n",
        "await runnableMap.invoke({\n",
        "    question: \"What are the prerequisites for this course?\"\n",
        "})"
      ]
    },
    {
      "cell_type": "markdown",
      "id": "4fcd402e-854d-448b-b402-241d9cbaedd2",
      "metadata": {
        "id": "4fcd402e-854d-448b-b402-241d9cbaedd2"
      },
      "source": [
        "# Augmented generation"
      ]
    },
    {
      "cell_type": "code",
      "execution_count": null,
      "id": "6da99c5b-08d1-4f6c-a4dd-aed004b6e023",
      "metadata": {
        "height": 132,
        "id": "6da99c5b-08d1-4f6c-a4dd-aed004b6e023"
      },
      "outputs": [],
      "source": [
        "import { ChatOpenAI } from \"@langchain/openai\";\n",
        "import { StringOutputParser } from \"@langchain/core/output_parsers\";\n",
        "\n",
        "const model = new ChatOpenAI({\n",
        "    modelName: \"gpt-3.5-turbo-1106\"\n",
        "});"
      ]
    },
    {
      "cell_type": "code",
      "execution_count": null,
      "id": "9699b4e1-a46c-44e2-8f13-2f6ff62f49e9",
      "metadata": {
        "height": 166,
        "id": "9699b4e1-a46c-44e2-8f13-2f6ff62f49e9"
      },
      "outputs": [],
      "source": [
        "const retrievalChain = RunnableSequence.from([\n",
        "  {\n",
        "    context: documentRetrievalChain,\n",
        "    question: (input) => input.question,\n",
        "  },\n",
        "  answerGenerationPrompt,\n",
        "  model,\n",
        "  new StringOutputParser(),\n",
        "]);"
      ]
    },
    {
      "cell_type": "code",
      "execution_count": null,
      "id": "8219b6ca-bf2d-4471-91f8-b3e6870ce07e",
      "metadata": {
        "height": 115,
        "id": "8219b6ca-bf2d-4471-91f8-b3e6870ce07e",
        "outputId": "ee19e533-f1ee-49eb-c4a2-779fe058b709"
      },
      "outputs": [
        {
          "name": "stdout",
          "output_type": "stream",
          "text": [
            "The prerequisites for this course are familiarity with basic probability and statistics, as well as basic linear algebra. The instructor assumes that most undergraduate statistics courses, such as Stat 116 at Stanford, will provide adequate background knowledge. Additionally, familiarity with basic linear algebra, such as courses like Math 51, 103, Math 113, or CS205 at Stanford, is also assumed. \n",
            "\n",
            "The instructor mentions that knowledge of random variables, expectation, variance, matrices, vectors, matrix multiplication, matrix inverse, and eigenvectors of a matrix is necessary for the course. However, for those who may need a refresher on these topics, the instructor plans to review them during discussion sections. Therefore, while a strong understanding of these concepts is desirable, the instructor is willing to provide additional support for those who may need it.\n"
          ]
        }
      ],
      "source": [
        "const answer = await retrievalChain.invoke({\n",
        "  question: \"What are the prerequisites for this course?\"\n",
        "});\n",
        "\n",
        "console.log(answer);"
      ]
    },
    {
      "cell_type": "code",
      "execution_count": null,
      "id": "66d091de-c9a8-429f-8bda-d43b489cdace",
      "metadata": {
        "height": 98,
        "id": "66d091de-c9a8-429f-8bda-d43b489cdace",
        "outputId": "e2fd5eb9-d5c2-40d7-8757-0a577b5bba84"
      },
      "outputs": [
        {
          "name": "stdout",
          "output_type": "stream",
          "text": [
            "Based on the context provided, I'm unable to determine what \"them\" refers to. If you could provide more specific information or clarify your question, I'd be happy to help.\n"
          ]
        }
      ],
      "source": [
        "const followupAnswer = await retrievalChain.invoke({\n",
        "  question: \"Can you list them in bullet point form?\"\n",
        "});\n",
        "\n",
        "console.log(followupAnswer);"
      ]
    },
    {
      "cell_type": "code",
      "execution_count": null,
      "id": "c0ce99cb-ab2f-4443-93c8-a5f7c979de71",
      "metadata": {
        "height": 98,
        "id": "c0ce99cb-ab2f-4443-93c8-a5f7c979de71"
      },
      "outputs": [],
      "source": [
        "const docs = await documentRetrievalChain.invoke({\n",
        "  question: \"Can you list them in bullet point form?\"\n",
        "});\n",
        "\n",
        "console.log(docs);"
      ]
    },
    {
      "cell_type": "code",
      "execution_count": null,
      "id": "0ac36205-de1c-4cfb-81e8-9c9d1525b338",
      "metadata": {
        "height": 30,
        "id": "0ac36205-de1c-4cfb-81e8-9c9d1525b338"
      },
      "outputs": [],
      "source": []
    },
    {
      "cell_type": "code",
      "execution_count": null,
      "id": "b547772d-4f1f-48e8-b381-138b30d993af",
      "metadata": {
        "height": 30,
        "id": "b547772d-4f1f-48e8-b381-138b30d993af"
      },
      "outputs": [],
      "source": []
    },
    {
      "cell_type": "code",
      "execution_count": null,
      "id": "ac25b85d-dd40-42a1-8374-6c778e86c9d8",
      "metadata": {
        "height": 30,
        "id": "ac25b85d-dd40-42a1-8374-6c778e86c9d8"
      },
      "outputs": [],
      "source": []
    },
    {
      "cell_type": "code",
      "execution_count": null,
      "id": "7af107da-cf4c-4900-a456-d131ff8fbc80",
      "metadata": {
        "height": 30,
        "id": "7af107da-cf4c-4900-a456-d131ff8fbc80"
      },
      "outputs": [],
      "source": []
    },
    {
      "cell_type": "code",
      "execution_count": null,
      "id": "fbcaa28f-5057-4109-80c1-406ec47bd9eb",
      "metadata": {
        "height": 30,
        "id": "fbcaa28f-5057-4109-80c1-406ec47bd9eb"
      },
      "outputs": [],
      "source": []
    },
    {
      "cell_type": "code",
      "execution_count": null,
      "id": "464b5f7d-75e0-4366-8adf-48053f19229d",
      "metadata": {
        "height": 30,
        "id": "464b5f7d-75e0-4366-8adf-48053f19229d"
      },
      "outputs": [],
      "source": []
    },
    {
      "cell_type": "code",
      "execution_count": null,
      "id": "e50feff9-72d1-4c1a-96b9-ec80ccde87f9",
      "metadata": {
        "height": 30,
        "id": "e50feff9-72d1-4c1a-96b9-ec80ccde87f9"
      },
      "outputs": [],
      "source": []
    },
    {
      "cell_type": "code",
      "execution_count": null,
      "id": "258343e5-e488-4c2c-938b-8c3189ef959d",
      "metadata": {
        "height": 30,
        "id": "258343e5-e488-4c2c-938b-8c3189ef959d"
      },
      "outputs": [],
      "source": []
    },
    {
      "cell_type": "code",
      "execution_count": null,
      "id": "6ec20e0c-389f-4cd1-b5df-67f6d706fb4e",
      "metadata": {
        "height": 30,
        "id": "6ec20e0c-389f-4cd1-b5df-67f6d706fb4e"
      },
      "outputs": [],
      "source": []
    },
    {
      "cell_type": "code",
      "execution_count": null,
      "id": "a4b2b76f-f963-4226-95f1-42d15487f0ca",
      "metadata": {
        "height": 30,
        "id": "a4b2b76f-f963-4226-95f1-42d15487f0ca"
      },
      "outputs": [],
      "source": []
    },
    {
      "cell_type": "code",
      "execution_count": null,
      "id": "99a497d1-0587-431b-bc54-657e935af6df",
      "metadata": {
        "height": 30,
        "id": "99a497d1-0587-431b-bc54-657e935af6df"
      },
      "outputs": [],
      "source": []
    },
    {
      "cell_type": "code",
      "execution_count": null,
      "id": "12805d9a-d5fe-48d5-acf3-d88a929e9d21",
      "metadata": {
        "height": 30,
        "id": "12805d9a-d5fe-48d5-acf3-d88a929e9d21"
      },
      "outputs": [],
      "source": []
    }
  ],
  "metadata": {
    "kernelspec": {
      "display_name": "Deno",
      "language": "typescript",
      "name": "deno"
    },
    "language_info": {
      "file_extension": ".ts",
      "mimetype": "text/x.typescript",
      "name": "typescript",
      "nb_converter": "script",
      "pygments_lexer": "typescript",
      "version": "5.3.3"
    },
    "colab": {
      "provenance": [],
      "include_colab_link": true
    }
  },
  "nbformat": 4,
  "nbformat_minor": 5
}