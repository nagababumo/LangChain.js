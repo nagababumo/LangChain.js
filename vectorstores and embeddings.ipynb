{
  "cells": [
    {
      "cell_type": "markdown",
      "metadata": {
        "id": "view-in-github",
        "colab_type": "text"
      },
      "source": [
        "<a href=\"https://colab.research.google.com/github/nagababumo/LangChain.js/blob/main/vectorstores%20and%20embeddings.ipynb\" target=\"_parent\"><img src=\"https://colab.research.google.com/assets/colab-badge.svg\" alt=\"Open In Colab\"/></a>"
      ]
    },
    {
      "cell_type": "markdown",
      "id": "94712c4b-5f3f-4d93-a9f4-d33620946c99",
      "metadata": {
        "id": "94712c4b-5f3f-4d93-a9f4-d33620946c99"
      },
      "source": [
        "# Lesson 3: Vectorstores and embeddings"
      ]
    },
    {
      "cell_type": "markdown",
      "id": "00329cd1-0de7-4b69-b474-d9d315d93f6a",
      "metadata": {
        "id": "00329cd1-0de7-4b69-b474-d9d315d93f6a"
      },
      "source": [
        "# Vectorstore ingestion"
      ]
    },
    {
      "cell_type": "code",
      "execution_count": null,
      "id": "634988ed-0a57-49bc-9261-dc19fe66529b",
      "metadata": {
        "height": 30,
        "id": "634988ed-0a57-49bc-9261-dc19fe66529b",
        "outputId": "77b25612-8d88-45eb-aea4-ae95f631506e"
      },
      "outputs": [
        {
          "data": {
            "text/plain": [
              "[Module: null prototype] { default: {} }"
            ]
          },
          "execution_count": 1,
          "metadata": {},
          "output_type": "execute_result"
        }
      ],
      "source": [
        "import \"dotenv/config\";"
      ]
    },
    {
      "cell_type": "code",
      "execution_count": null,
      "id": "b997a07f-bfb0-407b-8959-fc0c467bd30f",
      "metadata": {
        "height": 115,
        "id": "b997a07f-bfb0-407b-8959-fc0c467bd30f",
        "outputId": "fd858bc4-5c48-4aa6-b9c5-b1345a0ffb09"
      },
      "outputs": [
        {
          "data": {
            "text/plain": [
              "[\n",
              "   \u001b[33m-0.010454769\u001b[39m,   \u001b[33m0.0023495338\u001b[39m, \u001b[33m-0.0008236494\u001b[39m,  \u001b[33m-0.010953553\u001b[39m,    \u001b[33m-0.01150484\u001b[39m,\n",
              "    \u001b[33m0.022891548\u001b[39m,   \u001b[33m-0.014687868\u001b[39m,  \u001b[33m0.0017490244\u001b[39m,  \u001b[33m-0.017601814\u001b[39m,   \u001b[33m-0.019386934\u001b[39m,\n",
              "    \u001b[33m0.005135503\u001b[39m,    \u001b[33m0.034127306\u001b[39m,  \u001b[33m-0.012298956\u001b[39m,  \u001b[33m0.0019163794\u001b[39m,    \u001b[33m0.004646564\u001b[39m,\n",
              "    \u001b[33m0.013079946\u001b[39m,    \u001b[33m0.024689794\u001b[39m,   \u001b[33m0.001944272\u001b[39m,  \u001b[33m0.0044529573\u001b[39m,  \u001b[33m-0.0063594924\u001b[39m,\n",
              "  \u001b[33m-0.0051158145\u001b[39m, \u001b[33m-0.00077852915\u001b[39m,  \u001b[33m-0.008078983\u001b[39m,   \u001b[33m0.014005321\u001b[39m,   \u001b[33m-0.009076551\u001b[39m,\n",
              "   \u001b[33m-0.003957455\u001b[39m,  \u001b[33m-0.0008121643\u001b[39m,  \u001b[33m-0.019701956\u001b[39m,    \u001b[33m0.00401324\u001b[39m,   \u001b[33m-0.001540651\u001b[39m,\n",
              "    \u001b[33m0.015934827\u001b[39m,   \u001b[33m-0.021972734\u001b[39m,  \u001b[33m-0.000726846\u001b[39m,  \u001b[33m-0.022261504\u001b[39m,    \u001b[33m0.006261048\u001b[39m,\n",
              "    \u001b[33m0.007081416\u001b[39m,   \u001b[33m-0.011340766\u001b[39m, \u001b[33m-0.0135459155\u001b[39m,    \u001b[33m0.02871944\u001b[39m,   \u001b[33m-0.023469085\u001b[39m,\n",
              "   \u001b[33m0.0069173425\u001b[39m,    \u001b[33m0.017641192\u001b[39m,   \u001b[33m0.017129282\u001b[39m, \u001b[33m-0.0059525897\u001b[39m,  \u001b[33m-0.0037868184\u001b[39m,\n",
              "   \u001b[33m-0.014425349\u001b[39m,   \u001b[33m-0.001721132\u001b[39m, \u001b[33m-0.0060740043\u001b[39m,   \u001b[33m-0.00796085\u001b[39m,    \u001b[33m0.010533525\u001b[39m,\n",
              "    \u001b[33m0.032972228\u001b[39m,  \u001b[33m-0.0008244698\u001b[39m,  \u001b[33m-0.024033498\u001b[39m, \u001b[33m-0.0034324194\u001b[39m, \u001b[33m-0.00075350795\u001b[39m,\n",
              "    \u001b[33m0.002628459\u001b[39m,   \u001b[33m-0.022458393\u001b[39m,   \u001b[33m0.025227955\u001b[39m,    \u001b[33m0.01968883\u001b[39m,    \u001b[33m0.010894486\u001b[39m,\n",
              "  \u001b[33m-0.0117542315\u001b[39m,  \u001b[33m-0.0025661108\u001b[39m,  \u001b[33m0.0025086852\u001b[39m, \u001b[33m-0.0073636225\u001b[39m,  \u001b[33m-0.0013995477\u001b[39m,\n",
              "   \u001b[33m-0.020030104\u001b[39m,   \u001b[33m-0.016315477\u001b[39m, \u001b[33m-0.0034586713\u001b[39m,    \u001b[33m0.01195112\u001b[39m,    \u001b[33m0.016761757\u001b[39m,\n",
              "    \u001b[33m0.028063146\u001b[39m,    \u001b[33m0.017733073\u001b[39m,  \u001b[33m-0.009214372\u001b[39m,  \u001b[33m-0.014858504\u001b[39m, \u001b[33m-0.00058369176\u001b[39m,\n",
              "    \u001b[33m0.008321812\u001b[39m,    \u001b[33m-0.02071265\u001b[39m,  \u001b[33m0.0148060005\u001b[39m,   \u001b[33m0.009759097\u001b[39m,   \u001b[33m-0.013125887\u001b[39m,\n",
              "    \u001b[33m0.018297486\u001b[39m,   \u001b[33m-0.039561424\u001b[39m, \u001b[33m0.00018755662\u001b[39m,   \u001b[33m0.024716046\u001b[39m,    \u001b[33m0.006392307\u001b[39m,\n",
              "  \u001b[33m-0.0051322216\u001b[39m,     \u001b[33m0.00914218\u001b[39m,   \u001b[33m0.030452058\u001b[39m,  \u001b[33m-0.025595479\u001b[39m,   \u001b[33m-0.010750101\u001b[39m,\n",
              "  \u001b[33m-0.0023150784\u001b[39m,      \u001b[33m0.0173918\u001b[39m,  \u001b[33m0.0014996326\u001b[39m,   \u001b[33m0.023823485\u001b[39m,   \u001b[33m-0.020318873\u001b[39m,\n",
              "     \u001b[33m0.03137087\u001b[39m,  \u001b[33m-0.0099691115\u001b[39m,   \u001b[33m0.032368436\u001b[39m, \u001b[33m-0.0015504954\u001b[39m,   \u001b[33m-0.026724305\u001b[39m,\n",
              "  ... 1436 more items\n",
              "]"
            ]
          },
          "execution_count": 2,
          "metadata": {},
          "output_type": "execute_result"
        }
      ],
      "source": [
        "import { OpenAIEmbeddings } from \"@langchain/openai\";\n",
        "\n",
        "const embeddings = new OpenAIEmbeddings();\n",
        "\n",
        "await embeddings.embedQuery(\"This is some sample text\");"
      ]
    },
    {
      "cell_type": "code",
      "execution_count": null,
      "id": "cd470c94-5bec-4efe-8395-416b0a408f8b",
      "metadata": {
        "height": 166,
        "id": "cd470c94-5bec-4efe-8395-416b0a408f8b"
      },
      "outputs": [],
      "source": [
        "import { similarity } from \"ml-distance\";\n",
        "\n",
        "const vector1 = await embeddings.embedQuery(\n",
        "    \"What are vectors useful for in machine learning?\"\n",
        ");\n",
        "const unrelatedVector = await embeddings.embedQuery(\n",
        "    \"A group of parrots is called a pandemonium.\"\n",
        ");"
      ]
    },
    {
      "cell_type": "code",
      "execution_count": null,
      "id": "4476713f-5285-4d2f-9126-d30ee9825090",
      "metadata": {
        "height": 30,
        "id": "4476713f-5285-4d2f-9126-d30ee9825090",
        "outputId": "1b3290f6-9c38-4e35-de29-7fd5782075cc"
      },
      "outputs": [
        {
          "data": {
            "text/plain": [
              "\u001b[33m0.6962144676957391\u001b[39m"
            ]
          },
          "execution_count": 4,
          "metadata": {},
          "output_type": "execute_result"
        }
      ],
      "source": [
        "similarity.cosine(vector1, unrelatedVector);"
      ]
    },
    {
      "cell_type": "code",
      "execution_count": null,
      "id": "17ff1478-261f-4f6d-ae0e-5d9d90df086d",
      "metadata": {
        "height": 115,
        "id": "17ff1478-261f-4f6d-ae0e-5d9d90df086d",
        "outputId": "4b573103-fdab-4895-b657-a1c2578f664f"
      },
      "outputs": [
        {
          "data": {
            "text/plain": [
              "\u001b[33m0.859059927625929\u001b[39m"
            ]
          },
          "execution_count": 5,
          "metadata": {},
          "output_type": "execute_result"
        }
      ],
      "source": [
        "const similarVector = await embeddings.embedQuery(\n",
        "    \"Vectors are representations of information.\"\n",
        ");\n",
        "\n",
        "similarity.cosine(vector1, similarVector);"
      ]
    },
    {
      "cell_type": "code",
      "execution_count": null,
      "id": "4f3366a1-4f80-4d4f-b49b-d7223b143d97",
      "metadata": {
        "height": 319,
        "id": "4f3366a1-4f80-4d4f-b49b-d7223b143d97"
      },
      "outputs": [],
      "source": [
        "// Peer dependency\n",
        "import * as parse from \"pdf-parse\";\n",
        "import { PDFLoader } from \"langchain/document_loaders/fs/pdf\";\n",
        "import {\n",
        "    RecursiveCharacterTextSplitter\n",
        "} from \"langchain/text_splitter\";\n",
        "\n",
        "const loader = new PDFLoader(\"./data/MachineLearning-Lecture01.pdf\");\n",
        "\n",
        "const rawCS229Docs = await loader.load();\n",
        "\n",
        "const splitter = new RecursiveCharacterTextSplitter({\n",
        "  chunkSize: 128,\n",
        "  chunkOverlap: 0,\n",
        "});\n",
        "\n",
        "const splitDocs = await splitter.splitDocuments(rawCS229Docs);"
      ]
    },
    {
      "cell_type": "code",
      "execution_count": null,
      "id": "c2581cfc-aec6-4600-860c-1e100d42a382",
      "metadata": {
        "height": 81,
        "id": "c2581cfc-aec6-4600-860c-1e100d42a382"
      },
      "outputs": [],
      "source": [
        "import { MemoryVectorStore } from \"langchain/vectorstores/memory\";\n",
        "\n",
        "const vectorstore = new MemoryVectorStore(embeddings);"
      ]
    },
    {
      "cell_type": "code",
      "execution_count": null,
      "id": "10a566f9-4c8e-4199-a394-f52baaceac4d",
      "metadata": {
        "height": 30,
        "id": "10a566f9-4c8e-4199-a394-f52baaceac4d"
      },
      "outputs": [],
      "source": [
        "await vectorstore.addDocuments(splitDocs);"
      ]
    },
    {
      "cell_type": "code",
      "execution_count": null,
      "id": "6da99c5b-08d1-4f6c-a4dd-aed004b6e023",
      "metadata": {
        "height": 166,
        "id": "6da99c5b-08d1-4f6c-a4dd-aed004b6e023",
        "outputId": "b3eb5b3f-475a-437e-d07c-cfeb50db8c47"
      },
      "outputs": [
        {
          "data": {
            "text/plain": [
              "[\n",
              "  \u001b[32m\"piece of research in machine learning, okay?\"\u001b[39m,\n",
              "  \u001b[32m\"are using a learning algorithm, perhaps without even being aware of it.\"\u001b[39m,\n",
              "  \u001b[32m\"some of my own excitement about machine learning to you.\"\u001b[39m,\n",
              "  \u001b[32m\"of the class, and then we'll start to talk a bit about machine learning.\"\u001b[39m\n",
              "]"
            ]
          },
          "execution_count": 9,
          "metadata": {},
          "output_type": "execute_result"
        }
      ],
      "source": [
        "const retrievedDocs = await vectorstore.similaritySearch(\n",
        "    \"What is deep learning?\",\n",
        "    4\n",
        ");\n",
        "\n",
        "const pageContents = retrievedDocs.map(doc => doc.pageContent);\n",
        "\n",
        "pageContents"
      ]
    },
    {
      "cell_type": "markdown",
      "id": "e64cc739-abaf-4e8a-a142-b4cd77abab40",
      "metadata": {
        "id": "e64cc739-abaf-4e8a-a142-b4cd77abab40"
      },
      "source": [
        "# Retrievers"
      ]
    },
    {
      "cell_type": "code",
      "execution_count": null,
      "id": "f5e32044-6e84-470a-91a7-262918d5a22b",
      "metadata": {
        "height": 30,
        "id": "f5e32044-6e84-470a-91a7-262918d5a22b"
      },
      "outputs": [],
      "source": [
        "const retriever = vectorstore.asRetriever();"
      ]
    },
    {
      "cell_type": "code",
      "execution_count": null,
      "id": "0d678f1d-c37c-462f-96ba-d1c84ab35482",
      "metadata": {
        "height": 47,
        "id": "0d678f1d-c37c-462f-96ba-d1c84ab35482",
        "outputId": "a0c4e47f-db9a-4762-b8d7-ed82a702e154"
      },
      "outputs": [
        {
          "data": {
            "text/plain": [
              "[\n",
              "  Document {\n",
              "    pageContent: \u001b[32m\"piece of research in machine learning, okay?\"\u001b[39m,\n",
              "    metadata: {\n",
              "      source: \u001b[32m\"./data/MachineLearning-Lecture01.pdf\"\u001b[39m,\n",
              "      pdf: {\n",
              "        version: \u001b[32m\"1.10.100\"\u001b[39m,\n",
              "        info: {\n",
              "          PDFFormatVersion: \u001b[32m\"1.4\"\u001b[39m,\n",
              "          IsAcroFormPresent: \u001b[33mfalse\u001b[39m,\n",
              "          IsXFAPresent: \u001b[33mfalse\u001b[39m,\n",
              "          Title: \u001b[32m\"\"\u001b[39m,\n",
              "          Author: \u001b[32m\"\"\u001b[39m,\n",
              "          Creator: \u001b[32m\"PScript5.dll Version 5.2.2\"\u001b[39m,\n",
              "          Producer: \u001b[32m\"Acrobat Distiller 8.1.0 (Windows)\"\u001b[39m,\n",
              "          CreationDate: \u001b[32m\"D:20080711112523-07'00'\"\u001b[39m,\n",
              "          ModDate: \u001b[32m\"D:20080711112523-07'00'\"\u001b[39m\n",
              "        },\n",
              "        metadata: Metadata { _metadata: \u001b[36m[Object: null prototype]\u001b[39m },\n",
              "        totalPages: \u001b[33m22\u001b[39m\n",
              "      },\n",
              "      loc: { pageNumber: \u001b[33m8\u001b[39m, lines: { from: \u001b[33m2\u001b[39m, to: \u001b[33m2\u001b[39m } }\n",
              "    }\n",
              "  },\n",
              "  Document {\n",
              "    pageContent: \u001b[32m\"are using a learning algorithm, perhaps without even being aware of it.\"\u001b[39m,\n",
              "    metadata: {\n",
              "      source: \u001b[32m\"./data/MachineLearning-Lecture01.pdf\"\u001b[39m,\n",
              "      pdf: {\n",
              "        version: \u001b[32m\"1.10.100\"\u001b[39m,\n",
              "        info: {\n",
              "          PDFFormatVersion: \u001b[32m\"1.4\"\u001b[39m,\n",
              "          IsAcroFormPresent: \u001b[33mfalse\u001b[39m,\n",
              "          IsXFAPresent: \u001b[33mfalse\u001b[39m,\n",
              "          Title: \u001b[32m\"\"\u001b[39m,\n",
              "          Author: \u001b[32m\"\"\u001b[39m,\n",
              "          Creator: \u001b[32m\"PScript5.dll Version 5.2.2\"\u001b[39m,\n",
              "          Producer: \u001b[32m\"Acrobat Distiller 8.1.0 (Windows)\"\u001b[39m,\n",
              "          CreationDate: \u001b[32m\"D:20080711112523-07'00'\"\u001b[39m,\n",
              "          ModDate: \u001b[32m\"D:20080711112523-07'00'\"\u001b[39m\n",
              "        },\n",
              "        metadata: Metadata { _metadata: \u001b[36m[Object: null prototype]\u001b[39m },\n",
              "        totalPages: \u001b[33m22\u001b[39m\n",
              "      },\n",
              "      loc: { pageNumber: \u001b[33m3\u001b[39m, lines: { from: \u001b[33m39\u001b[39m, to: \u001b[33m39\u001b[39m } }\n",
              "    }\n",
              "  },\n",
              "  Document {\n",
              "    pageContent: \u001b[32m\"some of my own excitement about machine learning to you.\"\u001b[39m,\n",
              "    metadata: {\n",
              "      source: \u001b[32m\"./data/MachineLearning-Lecture01.pdf\"\u001b[39m,\n",
              "      pdf: {\n",
              "        version: \u001b[32m\"1.10.100\"\u001b[39m,\n",
              "        info: {\n",
              "          PDFFormatVersion: \u001b[32m\"1.4\"\u001b[39m,\n",
              "          IsAcroFormPresent: \u001b[33mfalse\u001b[39m,\n",
              "          IsXFAPresent: \u001b[33mfalse\u001b[39m,\n",
              "          Title: \u001b[32m\"\"\u001b[39m,\n",
              "          Author: \u001b[32m\"\"\u001b[39m,\n",
              "          Creator: \u001b[32m\"PScript5.dll Version 5.2.2\"\u001b[39m,\n",
              "          Producer: \u001b[32m\"Acrobat Distiller 8.1.0 (Windows)\"\u001b[39m,\n",
              "          CreationDate: \u001b[32m\"D:20080711112523-07'00'\"\u001b[39m,\n",
              "          ModDate: \u001b[32m\"D:20080711112523-07'00'\"\u001b[39m\n",
              "        },\n",
              "        metadata: Metadata { _metadata: \u001b[36m[Object: null prototype]\u001b[39m },\n",
              "        totalPages: \u001b[33m22\u001b[39m\n",
              "      },\n",
              "      loc: { pageNumber: \u001b[33m4\u001b[39m, lines: { from: \u001b[33m24\u001b[39m, to: \u001b[33m24\u001b[39m } }\n",
              "    }\n",
              "  },\n",
              "  Document {\n",
              "    pageContent: \u001b[32m\"of the class, and then we'll start to talk a bit about machine learning.\"\u001b[39m,\n",
              "    metadata: {\n",
              "      source: \u001b[32m\"./data/MachineLearning-Lecture01.pdf\"\u001b[39m,\n",
              "      pdf: {\n",
              "        version: \u001b[32m\"1.10.100\"\u001b[39m,\n",
              "        info: {\n",
              "          PDFFormatVersion: \u001b[32m\"1.4\"\u001b[39m,\n",
              "          IsAcroFormPresent: \u001b[33mfalse\u001b[39m,\n",
              "          IsXFAPresent: \u001b[33mfalse\u001b[39m,\n",
              "          Title: \u001b[32m\"\"\u001b[39m,\n",
              "          Author: \u001b[32m\"\"\u001b[39m,\n",
              "          Creator: \u001b[32m\"PScript5.dll Version 5.2.2\"\u001b[39m,\n",
              "          Producer: \u001b[32m\"Acrobat Distiller 8.1.0 (Windows)\"\u001b[39m,\n",
              "          CreationDate: \u001b[32m\"D:20080711112523-07'00'\"\u001b[39m,\n",
              "          ModDate: \u001b[32m\"D:20080711112523-07'00'\"\u001b[39m\n",
              "        },\n",
              "        metadata: Metadata { _metadata: \u001b[36m[Object: null prototype]\u001b[39m },\n",
              "        totalPages: \u001b[33m22\u001b[39m\n",
              "      },\n",
              "      loc: { pageNumber: \u001b[33m1\u001b[39m, lines: { from: \u001b[33m4\u001b[39m, to: \u001b[33m4\u001b[39m } }\n",
              "    }\n",
              "  }\n",
              "]"
            ]
          },
          "execution_count": 11,
          "metadata": {},
          "output_type": "execute_result"
        }
      ],
      "source": [
        "await retriever.invoke(\"What is deep learning?\")"
      ]
    },
    {
      "cell_type": "code",
      "execution_count": null,
      "id": "18f6254b-5eaf-4867-999b-97d08f96cee9",
      "metadata": {
        "height": 30,
        "id": "18f6254b-5eaf-4867-999b-97d08f96cee9"
      },
      "outputs": [],
      "source": []
    },
    {
      "cell_type": "code",
      "execution_count": null,
      "id": "c326a7cc-d9be-432c-be10-7846d2b8e5e9",
      "metadata": {
        "height": 30,
        "id": "c326a7cc-d9be-432c-be10-7846d2b8e5e9"
      },
      "outputs": [],
      "source": []
    },
    {
      "cell_type": "code",
      "execution_count": null,
      "id": "8b25e21c-28d0-4329-852e-b96a14c38529",
      "metadata": {
        "height": 30,
        "id": "8b25e21c-28d0-4329-852e-b96a14c38529"
      },
      "outputs": [],
      "source": []
    },
    {
      "cell_type": "code",
      "execution_count": null,
      "id": "520b4a9b-89de-4652-b238-b7dddbd5a2c2",
      "metadata": {
        "height": 30,
        "id": "520b4a9b-89de-4652-b238-b7dddbd5a2c2"
      },
      "outputs": [],
      "source": []
    },
    {
      "cell_type": "code",
      "execution_count": null,
      "id": "c325c8b5-9292-41f2-ad10-3ad0ad3df182",
      "metadata": {
        "height": 30,
        "id": "c325c8b5-9292-41f2-ad10-3ad0ad3df182"
      },
      "outputs": [],
      "source": []
    },
    {
      "cell_type": "code",
      "execution_count": null,
      "id": "f5fe1d4c-9075-47d4-8451-b9bbc1115668",
      "metadata": {
        "height": 30,
        "id": "f5fe1d4c-9075-47d4-8451-b9bbc1115668"
      },
      "outputs": [],
      "source": []
    },
    {
      "cell_type": "code",
      "execution_count": null,
      "id": "9cb3853d-826c-4e1f-a413-9f9f0faf62fe",
      "metadata": {
        "height": 30,
        "id": "9cb3853d-826c-4e1f-a413-9f9f0faf62fe"
      },
      "outputs": [],
      "source": []
    },
    {
      "cell_type": "code",
      "execution_count": null,
      "id": "3dd60bd2-fcc1-4f96-8763-969e30d52c13",
      "metadata": {
        "height": 30,
        "id": "3dd60bd2-fcc1-4f96-8763-969e30d52c13"
      },
      "outputs": [],
      "source": []
    },
    {
      "cell_type": "code",
      "execution_count": null,
      "id": "c8f81c9f-88d7-470a-b597-c4137c9d35a4",
      "metadata": {
        "height": 30,
        "id": "c8f81c9f-88d7-470a-b597-c4137c9d35a4"
      },
      "outputs": [],
      "source": []
    },
    {
      "cell_type": "code",
      "execution_count": null,
      "id": "c3b2e1ba-0419-4276-bdb4-3b044b3a7f46",
      "metadata": {
        "height": 30,
        "id": "c3b2e1ba-0419-4276-bdb4-3b044b3a7f46"
      },
      "outputs": [],
      "source": []
    },
    {
      "cell_type": "code",
      "execution_count": null,
      "id": "24bc88b0-851c-4304-a085-ac0cba9f615f",
      "metadata": {
        "height": 30,
        "id": "24bc88b0-851c-4304-a085-ac0cba9f615f"
      },
      "outputs": [],
      "source": []
    },
    {
      "cell_type": "code",
      "execution_count": null,
      "id": "f35a5209-e820-496b-9abc-60ade9f22d7c",
      "metadata": {
        "height": 30,
        "id": "f35a5209-e820-496b-9abc-60ade9f22d7c"
      },
      "outputs": [],
      "source": []
    }
  ],
  "metadata": {
    "kernelspec": {
      "display_name": "Deno",
      "language": "typescript",
      "name": "deno"
    },
    "language_info": {
      "file_extension": ".ts",
      "mimetype": "text/x.typescript",
      "name": "typescript",
      "nb_converter": "script",
      "pygments_lexer": "typescript",
      "version": "5.3.3"
    },
    "colab": {
      "provenance": [],
      "include_colab_link": true
    }
  },
  "nbformat": 4,
  "nbformat_minor": 5
}